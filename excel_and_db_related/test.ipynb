{
 "cells": [
  {
   "cell_type": "code",
   "execution_count": 1,
   "metadata": {},
   "outputs": [],
   "source": [
    "import pandas as pd"
   ]
  },
  {
   "cell_type": "code",
   "execution_count": 3,
   "metadata": {},
   "outputs": [],
   "source": [
    "df = pd.read_csv('./katalog.csv')"
   ]
  },
  {
   "cell_type": "code",
   "execution_count": 4,
   "metadata": {},
   "outputs": [
    {
     "data": {
      "text/plain": [
       "Index(['complete_machine_sample_number', 'turbo_maker_oe_no', 'turbo_maker',\n",
       "       'turbo_model', 'vehicle_oem_number', 'vehicle_brand', 'vehicle_model',\n",
       "       'engine', 'year', 'complete_turbo_code', 'gasket_kits', 'chra', 'sw',\n",
       "       'cw', 'back_plate', 'thrust_flinger', 'thrust_bearing',\n",
       "       'journal_bearing', 'bearing_housing', 'actuator', 'turbine_housing',\n",
       "       'compressor_housing', 'nozzle_ring_assembly', 'repair_kits',\n",
       "       'query_turbo_maker_oe_no'],\n",
       "      dtype='object')"
      ]
     },
     "execution_count": 4,
     "metadata": {},
     "output_type": "execute_result"
    }
   ],
   "source": [
    "df.columns"
   ]
  },
  {
   "cell_type": "code",
   "execution_count": 23,
   "metadata": {},
   "outputs": [],
   "source": []
  },
  {
   "cell_type": "code",
   "execution_count": 24,
   "metadata": {},
   "outputs": [
    {
     "name": "stdout",
     "output_type": "stream",
     "text": [
      "0          55191597\n",
      "1          46769104\n",
      "2          46786078\n",
      "3          46779032\n",
      "4          46767677\n",
      "           ...     \n",
      "3488    28231-2B780\n",
      "3489     2700902780\n",
      "3490     2700902780\n",
      "3491            NaN\n",
      "3492            NaN\n",
      "Name: vehicle_oem_number, Length: 3493, dtype: object 0         55191597\n",
      "1         46769104\n",
      "2         46786078\n",
      "3         46779032\n",
      "4         46767677\n",
      "           ...    \n",
      "3488    282312B780\n",
      "3489    2700902780\n",
      "3490    2700902780\n",
      "3491           NAN\n",
      "3492           NAN\n",
      "Name: vehicle_oem_number_LDupper, Length: 3493, dtype: object\n"
     ]
    }
   ],
   "source": [
    "print(df['vehicle_oem_number'], df['vehicle_oem_number_LDupper'])"
   ]
  },
  {
   "cell_type": "code",
   "execution_count": 7,
   "metadata": {},
   "outputs": [],
   "source": [
    "import re"
   ]
  },
  {
   "cell_type": "code",
   "execution_count": 18,
   "metadata": {},
   "outputs": [
    {
     "data": {
      "text/plain": [
       "True"
      ]
     },
     "execution_count": 18,
     "metadata": {},
     "output_type": "execute_result"
    }
   ],
   "source": [
    "'282312B780' == '282312B780'"
   ]
  },
  {
   "cell_type": "code",
   "execution_count": null,
   "metadata": {},
   "outputs": [],
   "source": []
  }
 ],
 "metadata": {
  "kernelspec": {
   "display_name": "django_env",
   "language": "python",
   "name": "python3"
  },
  "language_info": {
   "codemirror_mode": {
    "name": "ipython",
    "version": 3
   },
   "file_extension": ".py",
   "mimetype": "text/x-python",
   "name": "python",
   "nbconvert_exporter": "python",
   "pygments_lexer": "ipython3",
   "version": "3.11.5"
  }
 },
 "nbformat": 4,
 "nbformat_minor": 2
}
