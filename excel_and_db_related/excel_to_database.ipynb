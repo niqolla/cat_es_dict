{
 "cells": [
  {
   "cell_type": "code",
   "execution_count": 1,
   "metadata": {},
   "outputs": [],
   "source": [
    "import re"
   ]
  },
  {
   "cell_type": "code",
   "execution_count": 2,
   "metadata": {},
   "outputs": [],
   "source": [
    "import pandas as pd "
   ]
  },
  {
   "cell_type": "markdown",
   "metadata": {},
   "source": [
    "# Full katalog"
   ]
  },
  {
   "cell_type": "code",
   "execution_count": 5,
   "metadata": {},
   "outputs": [],
   "source": [
    "df = pd.read_excel('./katalog.xls')\n",
    "df.columns = [col.replace(' ', '_').lower() for col in df.columns]\n",
    "df.turbo_maker_oe_no = df.turbo_maker_oe_no.str.split('/')\n",
    "df = df.explode('turbo_maker_oe_no')\n",
    "df['query_turbo_maker_oe_no'] = df.turbo_maker_oe_no.str.replace(\n",
    "    '-','').str.replace(' ', '')\n",
    "df['vehicle_oem_number_LDupper'] = df['vehicle_oem_number'].apply(lambda x : re.sub(r'[^a-zA-Z0-9]', '', str(x).strip()).upper())\n",
    "df.to_csv('katalog.csv', index=False)"
   ]
  },
  {
   "cell_type": "markdown",
   "metadata": {},
   "source": [
    "# Turbini katalog"
   ]
  },
  {
   "cell_type": "code",
   "execution_count": 4,
   "metadata": {},
   "outputs": [],
   "source": [
    "# df = pd.read_excel('./turbini.xlsx', dtype='str')\n",
    "# df.columns = [col.replace(' ', '_').lower() for col in df.columns]\n",
    "# df['query_jrone_no'] = df.jrone_no.str.replace(\n",
    "#     '-','').str.replace(' ', '')\n",
    "# df['query_oe1'] = df.oe_1.str.replace(\n",
    "#     '-','').str.replace(' ', '')\n",
    "# df['query_oe2'] = df.oe_2.str.replace(\n",
    "#     '-','').str.replace(' ', '')\n",
    "# df = df.apply(lambda x: x.str.strip())\n",
    "# df['ccm_numbers'] = df['ccm'].apply(lambda x: re.findall(r'\\w?\\.?\\d*', str(x))[0])\n",
    "# df['snaga_numbers'] = df['snaga'].apply(lambda x: int(re.findall(r'\\d*', str(x))[0]))\n",
    "# df.to_csv('turbini.csv', index=False)"
   ]
  },
  {
   "cell_type": "code",
   "execution_count": 3,
   "metadata": {},
   "outputs": [],
   "source": [
    "df = pd.read_excel('./TURBINE ZA NIKOLU sa cenama.xlsx', dtype='str')\n",
    "df.rename(columns={'OE' : 'oe_1', 'OE.1' : 'oe_2',}, inplace=True)\n",
    "df.columns = [col.replace(' ', '_').lower() for col in df.columns]\n",
    "df['query_jrone_no'] = df.jrone_no.str.replace(\n",
    "    '-','').str.replace(' ', '')\n",
    "df['query_oe1'] = df.oe_1.str.replace(\n",
    "    '-','').str.replace(' ', '')\n",
    "df['query_oe2'] = df.oe_2.str.replace(\n",
    "    '-','').str.replace(' ', '')\n",
    "df = df.apply(lambda x: x.str.strip())\n",
    "df['cena'] = df.cena.apply(lambda x: round(float(x), 2))\n",
    "df['ccm_numbers'] = df['ccm'].apply(lambda x: re.findall(r'\\w?\\.?\\d*', str(x))[0])\n",
    "df['snaga_numbers'] = df['snaga'].apply(lambda x: int(re.findall(r'\\d*', str(x))[0]))\n",
    "df.to_csv('turbini.csv', index=False)"
   ]
  },
  {
   "cell_type": "code",
   "execution_count": null,
   "metadata": {},
   "outputs": [],
   "source": []
  }
 ],
 "metadata": {
  "kernelspec": {
   "display_name": "django_env",
   "language": "python",
   "name": "python3"
  },
  "language_info": {
   "codemirror_mode": {
    "name": "ipython",
    "version": 3
   },
   "file_extension": ".py",
   "mimetype": "text/x-python",
   "name": "python",
   "nbconvert_exporter": "python",
   "pygments_lexer": "ipython3",
   "version": "3.11.5"
  }
 },
 "nbformat": 4,
 "nbformat_minor": 2
}
